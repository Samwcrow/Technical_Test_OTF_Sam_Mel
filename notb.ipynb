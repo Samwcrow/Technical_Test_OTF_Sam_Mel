{
 "cells": [
  {
   "cell_type": "markdown",
   "metadata": {},
   "source": [
    "Import libraries and functions "
   ]
  },
  {
   "cell_type": "code",
   "execution_count": 1,
   "metadata": {},
   "outputs": [],
   "source": [
    "import pandas as pd\n",
    "\n",
    "import plotly.express as px\n",
    "\n",
    "from Functions_Thecnical_Test.Extract_Functs import get_contacts\n",
    "from Functions_Thecnical_Test.Transf_Functs import Country_Recognition\n",
    "from Functions_Thecnical_Test.Transf_Functs import Found_Emails\n",
    "from Functions_Thecnical_Test.Transf_Functs import Fix_Phone_Numbers\n",
    "from Functions_Thecnical_Test.Algorithm_Duplicate_M import Duplicate_Management\n",
    "from Functions_Thecnical_Test.Load_Functs import Load_Function\n",
    "from Functions_Thecnical_Test.Load_Functs import Properties_Multiple_CheckB"
   ]
  },
  {
   "cell_type": "markdown",
   "metadata": {},
   "source": [
    " ## **Contact collection** \n",
    " ### Function call to create a dataframe with the specified properties."
   ]
  },
  {
   "cell_type": "code",
   "execution_count": 2,
   "metadata": {},
   "outputs": [
    {
     "name": "stdout",
     "output_type": "stream",
     "text": [
      "Loop #0\n",
      "Loop #1\n",
      "Loop #2\n",
      "Loop #3\n",
      "Loop #4\n",
      "Loop #5\n",
      "Loop #6\n",
      "Loop #7\n",
      "Loop #8\n",
      "Loop #9\n",
      "Loop #10\n",
      "Loop #11\n",
      "Loop #12\n",
      "Loop #13\n",
      "Loop #14\n",
      "Loop #15\n",
      "Loop #16\n",
      "Loop #17\n",
      "Loop #18\n",
      "Loop #19\n",
      "Loop #20\n",
      "Loop #21\n",
      "Loop #22\n",
      "Loop #23\n",
      "Loop #24\n",
      "Loop #25\n",
      "Loop #26\n",
      "Loop #27\n",
      "Loop #28\n",
      "Loop #29\n",
      "Loop #30\n",
      "Loop #31\n"
     ]
    }
   ],
   "source": [
    "apiK = \"pat-na1-3c7b0af9-bb66-40e7-a256-ce4c5eb27e81\"\n",
    "properties = [\"allowed_to_collect\", \"firstname\", \"lastname\",\"raw_email\", \"country\",\"phone\", \"technical_test___create_date\",\"industry\",\"address\",\"hs_object_id\"]\n",
    "limit = 200\n",
    "DataFrame_Contacts = get_contacts(apiK,limit,properties)"
   ]
  },
  {
   "cell_type": "markdown",
   "metadata": {},
   "source": [
    "### Result Extraction Contacts into a Data frame and Exporting as a .CSV"
   ]
  },
  {
   "cell_type": "code",
   "execution_count": 3,
   "metadata": {},
   "outputs": [
    {
     "data": {
      "text/html": [
       "<div>\n",
       "<style scoped>\n",
       "    .dataframe tbody tr th:only-of-type {\n",
       "        vertical-align: middle;\n",
       "    }\n",
       "\n",
       "    .dataframe tbody tr th {\n",
       "        vertical-align: top;\n",
       "    }\n",
       "\n",
       "    .dataframe thead th {\n",
       "        text-align: right;\n",
       "    }\n",
       "</style>\n",
       "<table border=\"1\" class=\"dataframe\">\n",
       "  <thead>\n",
       "    <tr style=\"text-align: right;\">\n",
       "      <th></th>\n",
       "      <th>address</th>\n",
       "      <th>allowed_to_collect</th>\n",
       "      <th>country</th>\n",
       "      <th>firstname</th>\n",
       "      <th>hs_object_id</th>\n",
       "      <th>industry</th>\n",
       "      <th>lastname</th>\n",
       "      <th>phone</th>\n",
       "      <th>raw_email</th>\n",
       "      <th>technical_test___create_date</th>\n",
       "    </tr>\n",
       "  </thead>\n",
       "  <tbody>\n",
       "    <tr>\n",
       "      <th>0</th>\n",
       "      <td>Blackpool  Rue, 6576</td>\n",
       "      <td>true</td>\n",
       "      <td>Waterford</td>\n",
       "      <td>Zoe</td>\n",
       "      <td>416102</td>\n",
       "      <td>Poultry and fish</td>\n",
       "      <td>Owen</td>\n",
       "      <td>0-774-386-624</td>\n",
       "      <td>Zoe &lt;zoe_owen450104633@acrit.org&gt; Contact Info.</td>\n",
       "      <td>2021-07-13</td>\n",
       "    </tr>\n",
       "    <tr>\n",
       "      <th>1</th>\n",
       "      <td>Parkfield  Avenue, 5340</td>\n",
       "      <td>true</td>\n",
       "      <td>Ireland</td>\n",
       "      <td>Zara</td>\n",
       "      <td>413403</td>\n",
       "      <td>Fruit and vegetables</td>\n",
       "      <td>Rodwell</td>\n",
       "      <td>6-777-367-783</td>\n",
       "      <td>Zara &lt;zara_rodwell1398442854@nickia.com&gt; Conta...</td>\n",
       "      <td>2021-01-09</td>\n",
       "    </tr>\n",
       "    <tr>\n",
       "      <th>2</th>\n",
       "      <td>Abourne   Lane, 876</td>\n",
       "      <td>true</td>\n",
       "      <td>Ireland</td>\n",
       "      <td>Zara</td>\n",
       "      <td>417951</td>\n",
       "      <td>Milling</td>\n",
       "      <td>Freeburn</td>\n",
       "      <td>5-618-556-540</td>\n",
       "      <td>Zara &lt;zara_freeburn1593147546@gmail.com&gt; Conta...</td>\n",
       "      <td>2021-08-30</td>\n",
       "    </tr>\n",
       "    <tr>\n",
       "      <th>3</th>\n",
       "      <td>Chester      Crossroad, 7070</td>\n",
       "      <td>true</td>\n",
       "      <td>Dublin</td>\n",
       "      <td>Winnie</td>\n",
       "      <td>419852</td>\n",
       "      <td>Dairy products</td>\n",
       "      <td>Walter</td>\n",
       "      <td>1-161-604-327</td>\n",
       "      <td>Winnie &lt;winnie_walter538064895@sheye.org&gt; Cont...</td>\n",
       "      <td>2021-02-10</td>\n",
       "    </tr>\n",
       "    <tr>\n",
       "      <th>4</th>\n",
       "      <td>Tilloch   Crossroad, 8332</td>\n",
       "      <td>true</td>\n",
       "      <td>Dublin</td>\n",
       "      <td>Zoe</td>\n",
       "      <td>425352</td>\n",
       "      <td>Meat</td>\n",
       "      <td>Owen</td>\n",
       "      <td>5-645-416-200</td>\n",
       "      <td>Zoe &lt;zoe_owen1652446013@bungar.biz&gt; Contact Info.</td>\n",
       "      <td>2021-11-02</td>\n",
       "    </tr>\n",
       "    <tr>\n",
       "      <th>...</th>\n",
       "      <td>...</td>\n",
       "      <td>...</td>\n",
       "      <td>...</td>\n",
       "      <td>...</td>\n",
       "      <td>...</td>\n",
       "      <td>...</td>\n",
       "      <td>...</td>\n",
       "      <td>...</td>\n",
       "      <td>...</td>\n",
       "      <td>...</td>\n",
       "    </tr>\n",
       "    <tr>\n",
       "      <th>6195</th>\n",
       "      <td>Elba  Alley, 9380</td>\n",
       "      <td>true</td>\n",
       "      <td>Cork</td>\n",
       "      <td>Aiden</td>\n",
       "      <td>460366</td>\n",
       "      <td>Animal feeds</td>\n",
       "      <td>Clifford</td>\n",
       "      <td>8-731-470-025</td>\n",
       "      <td>Aiden &lt;aiden_clifford794001861@atink.com&gt; Cont...</td>\n",
       "      <td>2021-08-26</td>\n",
       "    </tr>\n",
       "    <tr>\n",
       "      <th>6196</th>\n",
       "      <td>Thomas Doyle   Alley, 1931</td>\n",
       "      <td>true</td>\n",
       "      <td>Plymouth</td>\n",
       "      <td>Aiden</td>\n",
       "      <td>461382</td>\n",
       "      <td>Poultry and fish</td>\n",
       "      <td>Eyres</td>\n",
       "      <td>6-576-550-331</td>\n",
       "      <td>Aiden &lt;aiden_eyres544152863@ubusive.com&gt; Conta...</td>\n",
       "      <td>2021-05-30</td>\n",
       "    </tr>\n",
       "    <tr>\n",
       "      <th>6197</th>\n",
       "      <td>Parkfield  Alley, 7350</td>\n",
       "      <td>true</td>\n",
       "      <td>Dublin</td>\n",
       "      <td>Aiden</td>\n",
       "      <td>462207</td>\n",
       "      <td>Dairy products</td>\n",
       "      <td>Eddison</td>\n",
       "      <td>5-250-504-442</td>\n",
       "      <td>Aiden &lt;aiden_eddison1108996147@infotech44.tech...</td>\n",
       "      <td>2021-03-16</td>\n",
       "    </tr>\n",
       "    <tr>\n",
       "      <th>6198</th>\n",
       "      <td>Chelsea Manor  Boulevard, 3151</td>\n",
       "      <td>true</td>\n",
       "      <td>England</td>\n",
       "      <td>Aiden</td>\n",
       "      <td>463002</td>\n",
       "      <td>Milling</td>\n",
       "      <td>Hope</td>\n",
       "      <td>1-121-762-622</td>\n",
       "      <td>Aiden &lt;aiden_hope1270128896@kideod.biz&gt; Contac...</td>\n",
       "      <td>2021-01-06</td>\n",
       "    </tr>\n",
       "    <tr>\n",
       "      <th>6199</th>\n",
       "      <td>Callcott   Way, 1611</td>\n",
       "      <td>true</td>\n",
       "      <td>Dublin</td>\n",
       "      <td>Aiden</td>\n",
       "      <td>460472</td>\n",
       "      <td>Meat</td>\n",
       "      <td>Clifford</td>\n",
       "      <td>8-788-240-104</td>\n",
       "      <td>Aiden &lt;aiden_clifford608122767@mafthy.com&gt; Con...</td>\n",
       "      <td>2021-12-19</td>\n",
       "    </tr>\n",
       "  </tbody>\n",
       "</table>\n",
       "<p>6200 rows × 10 columns</p>\n",
       "</div>"
      ],
      "text/plain": [
       "                             address allowed_to_collect    country firstname  \\\n",
       "0               Blackpool  Rue, 6576               true  Waterford       Zoe   \n",
       "1            Parkfield  Avenue, 5340               true    Ireland      Zara   \n",
       "2                Abourne   Lane, 876               true    Ireland      Zara   \n",
       "3       Chester      Crossroad, 7070               true     Dublin    Winnie   \n",
       "4          Tilloch   Crossroad, 8332               true     Dublin       Zoe   \n",
       "...                              ...                ...        ...       ...   \n",
       "6195               Elba  Alley, 9380               true       Cork     Aiden   \n",
       "6196      Thomas Doyle   Alley, 1931               true   Plymouth     Aiden   \n",
       "6197          Parkfield  Alley, 7350               true     Dublin     Aiden   \n",
       "6198  Chelsea Manor  Boulevard, 3151               true    England     Aiden   \n",
       "6199            Callcott   Way, 1611               true     Dublin     Aiden   \n",
       "\n",
       "     hs_object_id              industry  lastname          phone  \\\n",
       "0          416102      Poultry and fish      Owen  0-774-386-624   \n",
       "1          413403  Fruit and vegetables   Rodwell  6-777-367-783   \n",
       "2          417951               Milling  Freeburn  5-618-556-540   \n",
       "3          419852        Dairy products    Walter  1-161-604-327   \n",
       "4          425352                  Meat      Owen  5-645-416-200   \n",
       "...           ...                   ...       ...            ...   \n",
       "6195       460366          Animal feeds  Clifford  8-731-470-025   \n",
       "6196       461382      Poultry and fish     Eyres  6-576-550-331   \n",
       "6197       462207        Dairy products   Eddison  5-250-504-442   \n",
       "6198       463002               Milling      Hope  1-121-762-622   \n",
       "6199       460472                  Meat  Clifford  8-788-240-104   \n",
       "\n",
       "                                              raw_email  \\\n",
       "0       Zoe <zoe_owen450104633@acrit.org> Contact Info.   \n",
       "1     Zara <zara_rodwell1398442854@nickia.com> Conta...   \n",
       "2     Zara <zara_freeburn1593147546@gmail.com> Conta...   \n",
       "3     Winnie <winnie_walter538064895@sheye.org> Cont...   \n",
       "4     Zoe <zoe_owen1652446013@bungar.biz> Contact Info.   \n",
       "...                                                 ...   \n",
       "6195  Aiden <aiden_clifford794001861@atink.com> Cont...   \n",
       "6196  Aiden <aiden_eyres544152863@ubusive.com> Conta...   \n",
       "6197  Aiden <aiden_eddison1108996147@infotech44.tech...   \n",
       "6198  Aiden <aiden_hope1270128896@kideod.biz> Contac...   \n",
       "6199  Aiden <aiden_clifford608122767@mafthy.com> Con...   \n",
       "\n",
       "     technical_test___create_date  \n",
       "0                      2021-07-13  \n",
       "1                      2021-01-09  \n",
       "2                      2021-08-30  \n",
       "3                      2021-02-10  \n",
       "4                      2021-11-02  \n",
       "...                           ...  \n",
       "6195                   2021-08-26  \n",
       "6196                   2021-05-30  \n",
       "6197                   2021-03-16  \n",
       "6198                   2021-01-06  \n",
       "6199                   2021-12-19  \n",
       "\n",
       "[6200 rows x 10 columns]"
      ]
     },
     "execution_count": 3,
     "metadata": {},
     "output_type": "execute_result"
    }
   ],
   "source": [
    "DataFrame_Contacts.to_csv('Technical_Test_OTF_Extraction.csv', index=False)\n",
    "DataFrame_Contacts"
   ]
  },
  {
   "cell_type": "markdown",
   "metadata": {},
   "source": [
    "### **Call the function to Country Recognition**"
   ]
  },
  {
   "cell_type": "code",
   "execution_count": 4,
   "metadata": {},
   "outputs": [
    {
     "name": "stdout",
     "output_type": "stream",
     "text": [
      "0             (Waterford, Ireland)\n",
      "1                  (None, Ireland)\n",
      "2                  (None, Ireland)\n",
      "3                (Dublin, Ireland)\n",
      "4                (Dublin, Ireland)\n",
      "                   ...            \n",
      "6195               (Cork, Ireland)\n",
      "6196    (Plymouth, United Kingdom)\n",
      "6197             (Dublin, Ireland)\n",
      "6198     (England, United Kingdom)\n",
      "6199             (Dublin, Ireland)\n",
      "Name: City/Country, Length: 6200, dtype: object\n"
     ]
    }
   ],
   "source": [
    "DataFrame_Contacts['City/Country'] = DataFrame_Contacts['country'].apply(Country_Recognition)\n",
    "print(DataFrame_Contacts['City/Country'])"
   ]
  },
  {
   "cell_type": "markdown",
   "metadata": {},
   "source": [
    "### **Call the function to Found Emails**"
   ]
  },
  {
   "cell_type": "code",
   "execution_count": 5,
   "metadata": {},
   "outputs": [
    {
     "data": {
      "text/plain": [
       "0                   zoe_owen450104633@acrit.org\n",
       "1             zara_rodwell1398442854@nickia.com\n",
       "2             zara_freeburn1593147546@gmail.com\n",
       "3              winnie_walter538064895@sheye.org\n",
       "4                 zoe_owen1652446013@bungar.biz\n",
       "                         ...                   \n",
       "6195          aiden_clifford794001861@atink.com\n",
       "6196           aiden_eyres544152863@ubusive.com\n",
       "6197    aiden_eddison1108996147@infotech44.tech\n",
       "6198            aiden_hope1270128896@kideod.biz\n",
       "6199         aiden_clifford608122767@mafthy.com\n",
       "Name: Email, Length: 6200, dtype: object"
      ]
     },
     "execution_count": 5,
     "metadata": {},
     "output_type": "execute_result"
    }
   ],
   "source": [
    "DataFrame_Contacts['Email'] = DataFrame_Contacts['raw_email'].apply(Found_Emails)\n",
    "DataFrame_Contacts['Email']"
   ]
  },
  {
   "cell_type": "markdown",
   "metadata": {},
   "source": [
    "### **Call the function to Fix Phone Numbers**"
   ]
  },
  {
   "cell_type": "code",
   "execution_count": 6,
   "metadata": {},
   "outputs": [
    {
     "data": {
      "text/plain": [
       "0        (+353) 7 7438 6624\n",
       "1       (+353) 67 7736 7783\n",
       "2       (+353) 56 1855 6540\n",
       "3       (+353) 11 6160 4327\n",
       "4       (+353) 56 4541 6200\n",
       "               ...         \n",
       "6195    (+353) 87 3147 0025\n",
       "6196     (+44) 65 7655 0331\n",
       "6197    (+353) 52 5050 4442\n",
       "6198     (+44) 11 2176 2622\n",
       "6199    (+353) 87 8824 0104\n",
       "Name: Phone_Number, Length: 6200, dtype: object"
      ]
     },
     "execution_count": 6,
     "metadata": {},
     "output_type": "execute_result"
    }
   ],
   "source": [
    "DataFrame_Contacts['Phone_Number'] = Fix_Phone_Numbers(DataFrame_Contacts['City/Country'],DataFrame_Contacts['phone'])\n",
    "DataFrame_Contacts['Phone_Number']"
   ]
  },
  {
   "cell_type": "markdown",
   "metadata": {},
   "source": [
    "#### Clean Dtaframe, Result of Transformation and Exporting as a .CSV "
   ]
  },
  {
   "cell_type": "code",
   "execution_count": 7,
   "metadata": {},
   "outputs": [
    {
     "data": {
      "text/html": [
       "<div>\n",
       "<style scoped>\n",
       "    .dataframe tbody tr th:only-of-type {\n",
       "        vertical-align: middle;\n",
       "    }\n",
       "\n",
       "    .dataframe tbody tr th {\n",
       "        vertical-align: top;\n",
       "    }\n",
       "\n",
       "    .dataframe thead th {\n",
       "        text-align: right;\n",
       "    }\n",
       "</style>\n",
       "<table border=\"1\" class=\"dataframe\">\n",
       "  <thead>\n",
       "    <tr style=\"text-align: right;\">\n",
       "      <th></th>\n",
       "      <th>address</th>\n",
       "      <th>firstname</th>\n",
       "      <th>hs_object_id</th>\n",
       "      <th>industry</th>\n",
       "      <th>lastname</th>\n",
       "      <th>technical_test___create_date</th>\n",
       "      <th>City/Country</th>\n",
       "      <th>Email</th>\n",
       "      <th>Phone_Number</th>\n",
       "    </tr>\n",
       "  </thead>\n",
       "  <tbody>\n",
       "    <tr>\n",
       "      <th>0</th>\n",
       "      <td>Blackpool  Rue, 6576</td>\n",
       "      <td>Zoe</td>\n",
       "      <td>416102</td>\n",
       "      <td>Poultry and fish</td>\n",
       "      <td>Owen</td>\n",
       "      <td>2021-07-13</td>\n",
       "      <td>(Waterford, Ireland)</td>\n",
       "      <td>zoe_owen450104633@acrit.org</td>\n",
       "      <td>(+353) 7 7438 6624</td>\n",
       "    </tr>\n",
       "    <tr>\n",
       "      <th>1</th>\n",
       "      <td>Parkfield  Avenue, 5340</td>\n",
       "      <td>Zara</td>\n",
       "      <td>413403</td>\n",
       "      <td>Fruit and vegetables</td>\n",
       "      <td>Rodwell</td>\n",
       "      <td>2021-01-09</td>\n",
       "      <td>(None, Ireland)</td>\n",
       "      <td>zara_rodwell1398442854@nickia.com</td>\n",
       "      <td>(+353) 67 7736 7783</td>\n",
       "    </tr>\n",
       "    <tr>\n",
       "      <th>2</th>\n",
       "      <td>Abourne   Lane, 876</td>\n",
       "      <td>Zara</td>\n",
       "      <td>417951</td>\n",
       "      <td>Milling</td>\n",
       "      <td>Freeburn</td>\n",
       "      <td>2021-08-30</td>\n",
       "      <td>(None, Ireland)</td>\n",
       "      <td>zara_freeburn1593147546@gmail.com</td>\n",
       "      <td>(+353) 56 1855 6540</td>\n",
       "    </tr>\n",
       "    <tr>\n",
       "      <th>3</th>\n",
       "      <td>Chester      Crossroad, 7070</td>\n",
       "      <td>Winnie</td>\n",
       "      <td>419852</td>\n",
       "      <td>Dairy products</td>\n",
       "      <td>Walter</td>\n",
       "      <td>2021-02-10</td>\n",
       "      <td>(Dublin, Ireland)</td>\n",
       "      <td>winnie_walter538064895@sheye.org</td>\n",
       "      <td>(+353) 11 6160 4327</td>\n",
       "    </tr>\n",
       "    <tr>\n",
       "      <th>4</th>\n",
       "      <td>Tilloch   Crossroad, 8332</td>\n",
       "      <td>Zoe</td>\n",
       "      <td>425352</td>\n",
       "      <td>Meat</td>\n",
       "      <td>Owen</td>\n",
       "      <td>2021-11-02</td>\n",
       "      <td>(Dublin, Ireland)</td>\n",
       "      <td>zoe_owen1652446013@bungar.biz</td>\n",
       "      <td>(+353) 56 4541 6200</td>\n",
       "    </tr>\n",
       "    <tr>\n",
       "      <th>...</th>\n",
       "      <td>...</td>\n",
       "      <td>...</td>\n",
       "      <td>...</td>\n",
       "      <td>...</td>\n",
       "      <td>...</td>\n",
       "      <td>...</td>\n",
       "      <td>...</td>\n",
       "      <td>...</td>\n",
       "      <td>...</td>\n",
       "    </tr>\n",
       "    <tr>\n",
       "      <th>6195</th>\n",
       "      <td>Elba  Alley, 9380</td>\n",
       "      <td>Aiden</td>\n",
       "      <td>460366</td>\n",
       "      <td>Animal feeds</td>\n",
       "      <td>Clifford</td>\n",
       "      <td>2021-08-26</td>\n",
       "      <td>(Cork, Ireland)</td>\n",
       "      <td>aiden_clifford794001861@atink.com</td>\n",
       "      <td>(+353) 87 3147 0025</td>\n",
       "    </tr>\n",
       "    <tr>\n",
       "      <th>6196</th>\n",
       "      <td>Thomas Doyle   Alley, 1931</td>\n",
       "      <td>Aiden</td>\n",
       "      <td>461382</td>\n",
       "      <td>Poultry and fish</td>\n",
       "      <td>Eyres</td>\n",
       "      <td>2021-05-30</td>\n",
       "      <td>(Plymouth, United Kingdom)</td>\n",
       "      <td>aiden_eyres544152863@ubusive.com</td>\n",
       "      <td>(+44) 65 7655 0331</td>\n",
       "    </tr>\n",
       "    <tr>\n",
       "      <th>6197</th>\n",
       "      <td>Parkfield  Alley, 7350</td>\n",
       "      <td>Aiden</td>\n",
       "      <td>462207</td>\n",
       "      <td>Dairy products</td>\n",
       "      <td>Eddison</td>\n",
       "      <td>2021-03-16</td>\n",
       "      <td>(Dublin, Ireland)</td>\n",
       "      <td>aiden_eddison1108996147@infotech44.tech</td>\n",
       "      <td>(+353) 52 5050 4442</td>\n",
       "    </tr>\n",
       "    <tr>\n",
       "      <th>6198</th>\n",
       "      <td>Chelsea Manor  Boulevard, 3151</td>\n",
       "      <td>Aiden</td>\n",
       "      <td>463002</td>\n",
       "      <td>Milling</td>\n",
       "      <td>Hope</td>\n",
       "      <td>2021-01-06</td>\n",
       "      <td>(England, United Kingdom)</td>\n",
       "      <td>aiden_hope1270128896@kideod.biz</td>\n",
       "      <td>(+44) 11 2176 2622</td>\n",
       "    </tr>\n",
       "    <tr>\n",
       "      <th>6199</th>\n",
       "      <td>Callcott   Way, 1611</td>\n",
       "      <td>Aiden</td>\n",
       "      <td>460472</td>\n",
       "      <td>Meat</td>\n",
       "      <td>Clifford</td>\n",
       "      <td>2021-12-19</td>\n",
       "      <td>(Dublin, Ireland)</td>\n",
       "      <td>aiden_clifford608122767@mafthy.com</td>\n",
       "      <td>(+353) 87 8824 0104</td>\n",
       "    </tr>\n",
       "  </tbody>\n",
       "</table>\n",
       "<p>6200 rows × 9 columns</p>\n",
       "</div>"
      ],
      "text/plain": [
       "                             address firstname hs_object_id  \\\n",
       "0               Blackpool  Rue, 6576       Zoe       416102   \n",
       "1            Parkfield  Avenue, 5340      Zara       413403   \n",
       "2                Abourne   Lane, 876      Zara       417951   \n",
       "3       Chester      Crossroad, 7070    Winnie       419852   \n",
       "4          Tilloch   Crossroad, 8332       Zoe       425352   \n",
       "...                              ...       ...          ...   \n",
       "6195               Elba  Alley, 9380     Aiden       460366   \n",
       "6196      Thomas Doyle   Alley, 1931     Aiden       461382   \n",
       "6197          Parkfield  Alley, 7350     Aiden       462207   \n",
       "6198  Chelsea Manor  Boulevard, 3151     Aiden       463002   \n",
       "6199            Callcott   Way, 1611     Aiden       460472   \n",
       "\n",
       "                  industry  lastname technical_test___create_date  \\\n",
       "0         Poultry and fish      Owen                   2021-07-13   \n",
       "1     Fruit and vegetables   Rodwell                   2021-01-09   \n",
       "2                  Milling  Freeburn                   2021-08-30   \n",
       "3           Dairy products    Walter                   2021-02-10   \n",
       "4                     Meat      Owen                   2021-11-02   \n",
       "...                    ...       ...                          ...   \n",
       "6195          Animal feeds  Clifford                   2021-08-26   \n",
       "6196      Poultry and fish     Eyres                   2021-05-30   \n",
       "6197        Dairy products   Eddison                   2021-03-16   \n",
       "6198               Milling      Hope                   2021-01-06   \n",
       "6199                  Meat  Clifford                   2021-12-19   \n",
       "\n",
       "                    City/Country                                    Email  \\\n",
       "0           (Waterford, Ireland)              zoe_owen450104633@acrit.org   \n",
       "1                (None, Ireland)        zara_rodwell1398442854@nickia.com   \n",
       "2                (None, Ireland)        zara_freeburn1593147546@gmail.com   \n",
       "3              (Dublin, Ireland)         winnie_walter538064895@sheye.org   \n",
       "4              (Dublin, Ireland)            zoe_owen1652446013@bungar.biz   \n",
       "...                          ...                                      ...   \n",
       "6195             (Cork, Ireland)        aiden_clifford794001861@atink.com   \n",
       "6196  (Plymouth, United Kingdom)         aiden_eyres544152863@ubusive.com   \n",
       "6197           (Dublin, Ireland)  aiden_eddison1108996147@infotech44.tech   \n",
       "6198   (England, United Kingdom)          aiden_hope1270128896@kideod.biz   \n",
       "6199           (Dublin, Ireland)       aiden_clifford608122767@mafthy.com   \n",
       "\n",
       "             Phone_Number  \n",
       "0      (+353) 7 7438 6624  \n",
       "1     (+353) 67 7736 7783  \n",
       "2     (+353) 56 1855 6540  \n",
       "3     (+353) 11 6160 4327  \n",
       "4     (+353) 56 4541 6200  \n",
       "...                   ...  \n",
       "6195  (+353) 87 3147 0025  \n",
       "6196   (+44) 65 7655 0331  \n",
       "6197  (+353) 52 5050 4442  \n",
       "6198   (+44) 11 2176 2622  \n",
       "6199  (+353) 87 8824 0104  \n",
       "\n",
       "[6200 rows x 9 columns]"
      ]
     },
     "execution_count": 7,
     "metadata": {},
     "output_type": "execute_result"
    }
   ],
   "source": [
    "DataFrame_Contacts.drop(columns=[\"allowed_to_collect\",\"country\",\"raw_email\",\"phone\"], inplace=True)\n",
    "DataFrame_Contacts.to_csv('Technical_Test_OTF_Transformation.csv', index=False)\n",
    "DataFrame_Contacts"
   ]
  },
  {
   "cell_type": "markdown",
   "metadata": {},
   "source": [
    "### **Creation of an interactive bar chart**"
   ]
  },
  {
   "cell_type": "code",
   "execution_count": 8,
   "metadata": {},
   "outputs": [
    {
     "data": {
      "application/vnd.plotly.v1+json": {
       "config": {
        "plotlyServerURL": "https://plot.ly"
       },
       "data": [
        {
         "alignmentgroup": "True",
         "hovertemplate": "Industry=Animal feeds<br>Country=%{x}<br>Count=%{y}<extra></extra>",
         "legendgroup": "Animal feeds",
         "marker": {
          "color": "#636efa",
          "pattern": {
           "shape": ""
          }
         },
         "name": "Animal feeds",
         "offsetgroup": "Animal feeds",
         "orientation": "v",
         "showlegend": true,
         "textposition": "auto",
         "type": "bar",
         "x": [
          "Ireland",
          "Italia",
          "United Kingdom"
         ],
         "xaxis": "x",
         "y": [
          378,
          6,
          477
         ],
         "yaxis": "y"
        },
        {
         "alignmentgroup": "True",
         "hovertemplate": "Industry=Bakery products<br>Country=%{x}<br>Count=%{y}<extra></extra>",
         "legendgroup": "Bakery products",
         "marker": {
          "color": "#EF553B",
          "pattern": {
           "shape": ""
          }
         },
         "name": "Bakery products",
         "offsetgroup": "Bakery products",
         "orientation": "v",
         "showlegend": true,
         "textposition": "auto",
         "type": "bar",
         "x": [
          "Ireland",
          "Italia",
          "United Kingdom"
         ],
         "xaxis": "x",
         "y": [
          408,
          16,
          478
         ],
         "yaxis": "y"
        },
        {
         "alignmentgroup": "True",
         "hovertemplate": "Industry=Dairy products<br>Country=%{x}<br>Count=%{y}<extra></extra>",
         "legendgroup": "Dairy products",
         "marker": {
          "color": "#00cc96",
          "pattern": {
           "shape": ""
          }
         },
         "name": "Dairy products",
         "offsetgroup": "Dairy products",
         "orientation": "v",
         "showlegend": true,
         "textposition": "auto",
         "type": "bar",
         "x": [
          "Ireland",
          "Italia",
          "United Kingdom"
         ],
         "xaxis": "x",
         "y": [
          432,
          5,
          493
         ],
         "yaxis": "y"
        },
        {
         "alignmentgroup": "True",
         "hovertemplate": "Industry=Fruit and vegetables<br>Country=%{x}<br>Count=%{y}<extra></extra>",
         "legendgroup": "Fruit and vegetables",
         "marker": {
          "color": "#ab63fa",
          "pattern": {
           "shape": ""
          }
         },
         "name": "Fruit and vegetables",
         "offsetgroup": "Fruit and vegetables",
         "orientation": "v",
         "showlegend": true,
         "textposition": "auto",
         "type": "bar",
         "x": [
          "Ireland",
          "Italia",
          "United Kingdom"
         ],
         "xaxis": "x",
         "y": [
          433,
          12,
          459
         ],
         "yaxis": "y"
        },
        {
         "alignmentgroup": "True",
         "hovertemplate": "Industry=Meat<br>Country=%{x}<br>Count=%{y}<extra></extra>",
         "legendgroup": "Meat",
         "marker": {
          "color": "#FFA15A",
          "pattern": {
           "shape": ""
          }
         },
         "name": "Meat",
         "offsetgroup": "Meat",
         "orientation": "v",
         "showlegend": true,
         "textposition": "auto",
         "type": "bar",
         "x": [
          "Ireland",
          "Italia",
          "United Kingdom"
         ],
         "xaxis": "x",
         "y": [
          398,
          9,
          438
         ],
         "yaxis": "y"
        },
        {
         "alignmentgroup": "True",
         "hovertemplate": "Industry=Milling<br>Country=%{x}<br>Count=%{y}<extra></extra>",
         "legendgroup": "Milling",
         "marker": {
          "color": "#19d3f3",
          "pattern": {
           "shape": ""
          }
         },
         "name": "Milling",
         "offsetgroup": "Milling",
         "orientation": "v",
         "showlegend": true,
         "textposition": "auto",
         "type": "bar",
         "x": [
          "Ireland",
          "Italia",
          "United Kingdom"
         ],
         "xaxis": "x",
         "y": [
          403,
          13,
          434
         ],
         "yaxis": "y"
        },
        {
         "alignmentgroup": "True",
         "hovertemplate": "Industry=Poultry and fish<br>Country=%{x}<br>Count=%{y}<extra></extra>",
         "legendgroup": "Poultry and fish",
         "marker": {
          "color": "#FF6692",
          "pattern": {
           "shape": ""
          }
         },
         "name": "Poultry and fish",
         "offsetgroup": "Poultry and fish",
         "orientation": "v",
         "showlegend": true,
         "textposition": "auto",
         "type": "bar",
         "x": [
          "Ireland",
          "Italia",
          "United Kingdom"
         ],
         "xaxis": "x",
         "y": [
          415,
          10,
          483
         ],
         "yaxis": "y"
        }
       ],
       "layout": {
        "barmode": "group",
        "legend": {
         "title": {
          "text": "Industry"
         },
         "tracegroupgap": 0
        },
        "template": {
         "data": {
          "bar": [
           {
            "error_x": {
             "color": "#2a3f5f"
            },
            "error_y": {
             "color": "#2a3f5f"
            },
            "marker": {
             "line": {
              "color": "#E5ECF6",
              "width": 0.5
             },
             "pattern": {
              "fillmode": "overlay",
              "size": 10,
              "solidity": 0.2
             }
            },
            "type": "bar"
           }
          ],
          "barpolar": [
           {
            "marker": {
             "line": {
              "color": "#E5ECF6",
              "width": 0.5
             },
             "pattern": {
              "fillmode": "overlay",
              "size": 10,
              "solidity": 0.2
             }
            },
            "type": "barpolar"
           }
          ],
          "carpet": [
           {
            "aaxis": {
             "endlinecolor": "#2a3f5f",
             "gridcolor": "white",
             "linecolor": "white",
             "minorgridcolor": "white",
             "startlinecolor": "#2a3f5f"
            },
            "baxis": {
             "endlinecolor": "#2a3f5f",
             "gridcolor": "white",
             "linecolor": "white",
             "minorgridcolor": "white",
             "startlinecolor": "#2a3f5f"
            },
            "type": "carpet"
           }
          ],
          "choropleth": [
           {
            "colorbar": {
             "outlinewidth": 0,
             "ticks": ""
            },
            "type": "choropleth"
           }
          ],
          "contour": [
           {
            "colorbar": {
             "outlinewidth": 0,
             "ticks": ""
            },
            "colorscale": [
             [
              0,
              "#0d0887"
             ],
             [
              0.1111111111111111,
              "#46039f"
             ],
             [
              0.2222222222222222,
              "#7201a8"
             ],
             [
              0.3333333333333333,
              "#9c179e"
             ],
             [
              0.4444444444444444,
              "#bd3786"
             ],
             [
              0.5555555555555556,
              "#d8576b"
             ],
             [
              0.6666666666666666,
              "#ed7953"
             ],
             [
              0.7777777777777778,
              "#fb9f3a"
             ],
             [
              0.8888888888888888,
              "#fdca26"
             ],
             [
              1,
              "#f0f921"
             ]
            ],
            "type": "contour"
           }
          ],
          "contourcarpet": [
           {
            "colorbar": {
             "outlinewidth": 0,
             "ticks": ""
            },
            "type": "contourcarpet"
           }
          ],
          "heatmap": [
           {
            "colorbar": {
             "outlinewidth": 0,
             "ticks": ""
            },
            "colorscale": [
             [
              0,
              "#0d0887"
             ],
             [
              0.1111111111111111,
              "#46039f"
             ],
             [
              0.2222222222222222,
              "#7201a8"
             ],
             [
              0.3333333333333333,
              "#9c179e"
             ],
             [
              0.4444444444444444,
              "#bd3786"
             ],
             [
              0.5555555555555556,
              "#d8576b"
             ],
             [
              0.6666666666666666,
              "#ed7953"
             ],
             [
              0.7777777777777778,
              "#fb9f3a"
             ],
             [
              0.8888888888888888,
              "#fdca26"
             ],
             [
              1,
              "#f0f921"
             ]
            ],
            "type": "heatmap"
           }
          ],
          "heatmapgl": [
           {
            "colorbar": {
             "outlinewidth": 0,
             "ticks": ""
            },
            "colorscale": [
             [
              0,
              "#0d0887"
             ],
             [
              0.1111111111111111,
              "#46039f"
             ],
             [
              0.2222222222222222,
              "#7201a8"
             ],
             [
              0.3333333333333333,
              "#9c179e"
             ],
             [
              0.4444444444444444,
              "#bd3786"
             ],
             [
              0.5555555555555556,
              "#d8576b"
             ],
             [
              0.6666666666666666,
              "#ed7953"
             ],
             [
              0.7777777777777778,
              "#fb9f3a"
             ],
             [
              0.8888888888888888,
              "#fdca26"
             ],
             [
              1,
              "#f0f921"
             ]
            ],
            "type": "heatmapgl"
           }
          ],
          "histogram": [
           {
            "marker": {
             "pattern": {
              "fillmode": "overlay",
              "size": 10,
              "solidity": 0.2
             }
            },
            "type": "histogram"
           }
          ],
          "histogram2d": [
           {
            "colorbar": {
             "outlinewidth": 0,
             "ticks": ""
            },
            "colorscale": [
             [
              0,
              "#0d0887"
             ],
             [
              0.1111111111111111,
              "#46039f"
             ],
             [
              0.2222222222222222,
              "#7201a8"
             ],
             [
              0.3333333333333333,
              "#9c179e"
             ],
             [
              0.4444444444444444,
              "#bd3786"
             ],
             [
              0.5555555555555556,
              "#d8576b"
             ],
             [
              0.6666666666666666,
              "#ed7953"
             ],
             [
              0.7777777777777778,
              "#fb9f3a"
             ],
             [
              0.8888888888888888,
              "#fdca26"
             ],
             [
              1,
              "#f0f921"
             ]
            ],
            "type": "histogram2d"
           }
          ],
          "histogram2dcontour": [
           {
            "colorbar": {
             "outlinewidth": 0,
             "ticks": ""
            },
            "colorscale": [
             [
              0,
              "#0d0887"
             ],
             [
              0.1111111111111111,
              "#46039f"
             ],
             [
              0.2222222222222222,
              "#7201a8"
             ],
             [
              0.3333333333333333,
              "#9c179e"
             ],
             [
              0.4444444444444444,
              "#bd3786"
             ],
             [
              0.5555555555555556,
              "#d8576b"
             ],
             [
              0.6666666666666666,
              "#ed7953"
             ],
             [
              0.7777777777777778,
              "#fb9f3a"
             ],
             [
              0.8888888888888888,
              "#fdca26"
             ],
             [
              1,
              "#f0f921"
             ]
            ],
            "type": "histogram2dcontour"
           }
          ],
          "mesh3d": [
           {
            "colorbar": {
             "outlinewidth": 0,
             "ticks": ""
            },
            "type": "mesh3d"
           }
          ],
          "parcoords": [
           {
            "line": {
             "colorbar": {
              "outlinewidth": 0,
              "ticks": ""
             }
            },
            "type": "parcoords"
           }
          ],
          "pie": [
           {
            "automargin": true,
            "type": "pie"
           }
          ],
          "scatter": [
           {
            "fillpattern": {
             "fillmode": "overlay",
             "size": 10,
             "solidity": 0.2
            },
            "type": "scatter"
           }
          ],
          "scatter3d": [
           {
            "line": {
             "colorbar": {
              "outlinewidth": 0,
              "ticks": ""
             }
            },
            "marker": {
             "colorbar": {
              "outlinewidth": 0,
              "ticks": ""
             }
            },
            "type": "scatter3d"
           }
          ],
          "scattercarpet": [
           {
            "marker": {
             "colorbar": {
              "outlinewidth": 0,
              "ticks": ""
             }
            },
            "type": "scattercarpet"
           }
          ],
          "scattergeo": [
           {
            "marker": {
             "colorbar": {
              "outlinewidth": 0,
              "ticks": ""
             }
            },
            "type": "scattergeo"
           }
          ],
          "scattergl": [
           {
            "marker": {
             "colorbar": {
              "outlinewidth": 0,
              "ticks": ""
             }
            },
            "type": "scattergl"
           }
          ],
          "scattermapbox": [
           {
            "marker": {
             "colorbar": {
              "outlinewidth": 0,
              "ticks": ""
             }
            },
            "type": "scattermapbox"
           }
          ],
          "scatterpolar": [
           {
            "marker": {
             "colorbar": {
              "outlinewidth": 0,
              "ticks": ""
             }
            },
            "type": "scatterpolar"
           }
          ],
          "scatterpolargl": [
           {
            "marker": {
             "colorbar": {
              "outlinewidth": 0,
              "ticks": ""
             }
            },
            "type": "scatterpolargl"
           }
          ],
          "scatterternary": [
           {
            "marker": {
             "colorbar": {
              "outlinewidth": 0,
              "ticks": ""
             }
            },
            "type": "scatterternary"
           }
          ],
          "surface": [
           {
            "colorbar": {
             "outlinewidth": 0,
             "ticks": ""
            },
            "colorscale": [
             [
              0,
              "#0d0887"
             ],
             [
              0.1111111111111111,
              "#46039f"
             ],
             [
              0.2222222222222222,
              "#7201a8"
             ],
             [
              0.3333333333333333,
              "#9c179e"
             ],
             [
              0.4444444444444444,
              "#bd3786"
             ],
             [
              0.5555555555555556,
              "#d8576b"
             ],
             [
              0.6666666666666666,
              "#ed7953"
             ],
             [
              0.7777777777777778,
              "#fb9f3a"
             ],
             [
              0.8888888888888888,
              "#fdca26"
             ],
             [
              1,
              "#f0f921"
             ]
            ],
            "type": "surface"
           }
          ],
          "table": [
           {
            "cells": {
             "fill": {
              "color": "#EBF0F8"
             },
             "line": {
              "color": "white"
             }
            },
            "header": {
             "fill": {
              "color": "#C8D4E3"
             },
             "line": {
              "color": "white"
             }
            },
            "type": "table"
           }
          ]
         },
         "layout": {
          "annotationdefaults": {
           "arrowcolor": "#2a3f5f",
           "arrowhead": 0,
           "arrowwidth": 1
          },
          "autotypenumbers": "strict",
          "coloraxis": {
           "colorbar": {
            "outlinewidth": 0,
            "ticks": ""
           }
          },
          "colorscale": {
           "diverging": [
            [
             0,
             "#8e0152"
            ],
            [
             0.1,
             "#c51b7d"
            ],
            [
             0.2,
             "#de77ae"
            ],
            [
             0.3,
             "#f1b6da"
            ],
            [
             0.4,
             "#fde0ef"
            ],
            [
             0.5,
             "#f7f7f7"
            ],
            [
             0.6,
             "#e6f5d0"
            ],
            [
             0.7,
             "#b8e186"
            ],
            [
             0.8,
             "#7fbc41"
            ],
            [
             0.9,
             "#4d9221"
            ],
            [
             1,
             "#276419"
            ]
           ],
           "sequential": [
            [
             0,
             "#0d0887"
            ],
            [
             0.1111111111111111,
             "#46039f"
            ],
            [
             0.2222222222222222,
             "#7201a8"
            ],
            [
             0.3333333333333333,
             "#9c179e"
            ],
            [
             0.4444444444444444,
             "#bd3786"
            ],
            [
             0.5555555555555556,
             "#d8576b"
            ],
            [
             0.6666666666666666,
             "#ed7953"
            ],
            [
             0.7777777777777778,
             "#fb9f3a"
            ],
            [
             0.8888888888888888,
             "#fdca26"
            ],
            [
             1,
             "#f0f921"
            ]
           ],
           "sequentialminus": [
            [
             0,
             "#0d0887"
            ],
            [
             0.1111111111111111,
             "#46039f"
            ],
            [
             0.2222222222222222,
             "#7201a8"
            ],
            [
             0.3333333333333333,
             "#9c179e"
            ],
            [
             0.4444444444444444,
             "#bd3786"
            ],
            [
             0.5555555555555556,
             "#d8576b"
            ],
            [
             0.6666666666666666,
             "#ed7953"
            ],
            [
             0.7777777777777778,
             "#fb9f3a"
            ],
            [
             0.8888888888888888,
             "#fdca26"
            ],
            [
             1,
             "#f0f921"
            ]
           ]
          },
          "colorway": [
           "#636efa",
           "#EF553B",
           "#00cc96",
           "#ab63fa",
           "#FFA15A",
           "#19d3f3",
           "#FF6692",
           "#B6E880",
           "#FF97FF",
           "#FECB52"
          ],
          "font": {
           "color": "#2a3f5f"
          },
          "geo": {
           "bgcolor": "white",
           "lakecolor": "white",
           "landcolor": "#E5ECF6",
           "showlakes": true,
           "showland": true,
           "subunitcolor": "white"
          },
          "hoverlabel": {
           "align": "left"
          },
          "hovermode": "closest",
          "mapbox": {
           "style": "light"
          },
          "paper_bgcolor": "white",
          "plot_bgcolor": "#E5ECF6",
          "polar": {
           "angularaxis": {
            "gridcolor": "white",
            "linecolor": "white",
            "ticks": ""
           },
           "bgcolor": "#E5ECF6",
           "radialaxis": {
            "gridcolor": "white",
            "linecolor": "white",
            "ticks": ""
           }
          },
          "scene": {
           "xaxis": {
            "backgroundcolor": "#E5ECF6",
            "gridcolor": "white",
            "gridwidth": 2,
            "linecolor": "white",
            "showbackground": true,
            "ticks": "",
            "zerolinecolor": "white"
           },
           "yaxis": {
            "backgroundcolor": "#E5ECF6",
            "gridcolor": "white",
            "gridwidth": 2,
            "linecolor": "white",
            "showbackground": true,
            "ticks": "",
            "zerolinecolor": "white"
           },
           "zaxis": {
            "backgroundcolor": "#E5ECF6",
            "gridcolor": "white",
            "gridwidth": 2,
            "linecolor": "white",
            "showbackground": true,
            "ticks": "",
            "zerolinecolor": "white"
           }
          },
          "shapedefaults": {
           "line": {
            "color": "#2a3f5f"
           }
          },
          "ternary": {
           "aaxis": {
            "gridcolor": "white",
            "linecolor": "white",
            "ticks": ""
           },
           "baxis": {
            "gridcolor": "white",
            "linecolor": "white",
            "ticks": ""
           },
           "bgcolor": "#E5ECF6",
           "caxis": {
            "gridcolor": "white",
            "linecolor": "white",
            "ticks": ""
           }
          },
          "title": {
           "x": 0.05
          },
          "xaxis": {
           "automargin": true,
           "gridcolor": "white",
           "linecolor": "white",
           "ticks": "",
           "title": {
            "standoff": 15
           },
           "zerolinecolor": "white",
           "zerolinewidth": 2
          },
          "yaxis": {
           "automargin": true,
           "gridcolor": "white",
           "linecolor": "white",
           "ticks": "",
           "title": {
            "standoff": 15
           },
           "zerolinecolor": "white",
           "zerolinewidth": 2
          }
         }
        },
        "title": {
         "text": "Industry Distribution by Country"
        },
        "xaxis": {
         "anchor": "y",
         "domain": [
          0,
          1
         ],
         "title": {
          "text": "Country"
         }
        },
        "yaxis": {
         "anchor": "x",
         "domain": [
          0,
          1
         ],
         "title": {
          "text": "Count"
         }
        }
       }
      }
     },
     "metadata": {},
     "output_type": "display_data"
    }
   ],
   "source": [
    "\n",
    "DataFrame_Contacts['country'] = DataFrame_Contacts['City/Country'].apply(lambda x: x[1])\n",
    "\n",
    "DataFrame_Count = DataFrame_Contacts.groupby(['industry', 'country']).size().reset_index(name='count')\n",
    "\n",
    "Values_Industry = DataFrame_Contacts['industry'].unique().tolist()\n",
    "\n",
    "Interactive_Chart = px.bar(DataFrame_Count, \n",
    "             x='country', \n",
    "             y='count', \n",
    "             color='industry', \n",
    "             barmode='group', \n",
    "             title='Industry Distribution by Country',\n",
    "             labels={'count': 'Count', 'country': 'Country', 'industry': 'Industry'})\n",
    "\n",
    "Interactive_Chart.show()\n",
    "\n",
    "DataFrame_Contacts.drop(columns=[\"country\"], inplace=True)"
   ]
  },
  {
   "cell_type": "markdown",
   "metadata": {},
   "source": [
    "### **Call the algorithm to  duplicate management**"
   ]
  },
  {
   "cell_type": "code",
   "execution_count": 9,
   "metadata": {},
   "outputs": [
    {
     "data": {
      "text/html": [
       "<div>\n",
       "<style scoped>\n",
       "    .dataframe tbody tr th:only-of-type {\n",
       "        vertical-align: middle;\n",
       "    }\n",
       "\n",
       "    .dataframe tbody tr th {\n",
       "        vertical-align: top;\n",
       "    }\n",
       "\n",
       "    .dataframe thead th {\n",
       "        text-align: right;\n",
       "    }\n",
       "</style>\n",
       "<table border=\"1\" class=\"dataframe\">\n",
       "  <thead>\n",
       "    <tr style=\"text-align: right;\">\n",
       "      <th></th>\n",
       "      <th>address</th>\n",
       "      <th>firstname</th>\n",
       "      <th>hs_object_id</th>\n",
       "      <th>industry</th>\n",
       "      <th>lastname</th>\n",
       "      <th>technical_test___create_date</th>\n",
       "      <th>City/Country</th>\n",
       "      <th>Email</th>\n",
       "      <th>Phone_Number</th>\n",
       "    </tr>\n",
       "  </thead>\n",
       "  <tbody>\n",
       "    <tr>\n",
       "      <th>0</th>\n",
       "      <td>Tilloch   Crossroad, 8332</td>\n",
       "      <td>Zoe</td>\n",
       "      <td>425352</td>\n",
       "      <td>;Meat;Poultry and fish</td>\n",
       "      <td>Owen</td>\n",
       "      <td>2021-11-02</td>\n",
       "      <td>(Dublin, Ireland)</td>\n",
       "      <td>zoe_owen1652446013@bungar.biz</td>\n",
       "      <td>(+353) 56 4541 6200</td>\n",
       "    </tr>\n",
       "    <tr>\n",
       "      <th>1</th>\n",
       "      <td>Becklow  Way, 8143</td>\n",
       "      <td>Zara</td>\n",
       "      <td>432351</td>\n",
       "      <td>Fruit and vegetables</td>\n",
       "      <td>Rodwell</td>\n",
       "      <td>2021-04-28</td>\n",
       "      <td>(Dublin, Ireland)</td>\n",
       "      <td>zara_rodwell1270511699@zorer.org</td>\n",
       "      <td>(+353) 33 8625 2475</td>\n",
       "    </tr>\n",
       "    <tr>\n",
       "      <th>2</th>\n",
       "      <td>Fieldstone Grove, 9968</td>\n",
       "      <td>Zara</td>\n",
       "      <td>428601</td>\n",
       "      <td>;Meat;Milling</td>\n",
       "      <td>Freeburn</td>\n",
       "      <td>2021-10-11</td>\n",
       "      <td>(Limerick, Ireland)</td>\n",
       "      <td>zara_freeburn2028884073@gembat.biz</td>\n",
       "      <td>(+353) 62 2415 6216</td>\n",
       "    </tr>\n",
       "    <tr>\n",
       "      <th>3</th>\n",
       "      <td>Collins  Lane, 3994</td>\n",
       "      <td>Winnie</td>\n",
       "      <td>437452</td>\n",
       "      <td>Dairy products</td>\n",
       "      <td>Walter</td>\n",
       "      <td>2021-10-10</td>\n",
       "      <td>(None, Ireland)</td>\n",
       "      <td>winnie_walter1068546463@naiker.biz</td>\n",
       "      <td>(+353) 25 6760 4285</td>\n",
       "    </tr>\n",
       "    <tr>\n",
       "      <th>4</th>\n",
       "      <td>Jackson Hill, 547</td>\n",
       "      <td>Zara</td>\n",
       "      <td>427351</td>\n",
       "      <td>;Animal feeds;Meat</td>\n",
       "      <td>Oldfield</td>\n",
       "      <td>2021-11-12</td>\n",
       "      <td>(London, United Kingdom)</td>\n",
       "      <td>zara_oldfield587137840@ubusive.com</td>\n",
       "      <td>(+44) 76 1486 6578</td>\n",
       "    </tr>\n",
       "    <tr>\n",
       "      <th>...</th>\n",
       "      <td>...</td>\n",
       "      <td>...</td>\n",
       "      <td>...</td>\n",
       "      <td>...</td>\n",
       "      <td>...</td>\n",
       "      <td>...</td>\n",
       "      <td>...</td>\n",
       "      <td>...</td>\n",
       "      <td>...</td>\n",
       "    </tr>\n",
       "    <tr>\n",
       "      <th>2844</th>\n",
       "      <td>Fairfield  Drive, 7609</td>\n",
       "      <td>Aiden</td>\n",
       "      <td>454193</td>\n",
       "      <td>;Animal feeds;Dairy products</td>\n",
       "      <td>Eddison</td>\n",
       "      <td>2021-04-12</td>\n",
       "      <td>(None, Ireland)</td>\n",
       "      <td>aiden_eddison148873831@atink.com</td>\n",
       "      <td>(+353) 20 0330 1221</td>\n",
       "    </tr>\n",
       "    <tr>\n",
       "      <th>2845</th>\n",
       "      <td>Buttonwood Tunnel, 9765</td>\n",
       "      <td>Aiden</td>\n",
       "      <td>454630</td>\n",
       "      <td>;Animal feeds;Milling</td>\n",
       "      <td>Cooper</td>\n",
       "      <td>2021-11-24</td>\n",
       "      <td>(Limerick, Ireland)</td>\n",
       "      <td>aiden_cooper489314766@ovock.tech</td>\n",
       "      <td>(+353) 33 7667 0122</td>\n",
       "    </tr>\n",
       "    <tr>\n",
       "      <th>2846</th>\n",
       "      <td>Belgrave  Rue, 6292</td>\n",
       "      <td>Aiden</td>\n",
       "      <td>458519</td>\n",
       "      <td>;Bakery products;Milling</td>\n",
       "      <td>Hope</td>\n",
       "      <td>2021-04-11</td>\n",
       "      <td>(London, United Kingdom)</td>\n",
       "      <td>aiden_hope1577155349@dionrab.com</td>\n",
       "      <td>(+44) 63 1678 4584</td>\n",
       "    </tr>\n",
       "    <tr>\n",
       "      <th>2847</th>\n",
       "      <td>Chantry   Alley, 6477</td>\n",
       "      <td>Aiden</td>\n",
       "      <td>460175</td>\n",
       "      <td>;Animal feeds;Poultry and fish</td>\n",
       "      <td>Eyres</td>\n",
       "      <td>2021-09-25</td>\n",
       "      <td>(Plymouth, United Kingdom)</td>\n",
       "      <td>aiden_eyres868665927@sheye.org</td>\n",
       "      <td>(+44) 14 0317 3282</td>\n",
       "    </tr>\n",
       "    <tr>\n",
       "      <th>2848</th>\n",
       "      <td>Callcott   Way, 1611</td>\n",
       "      <td>Aiden</td>\n",
       "      <td>460472</td>\n",
       "      <td>;Meat;Animal feeds</td>\n",
       "      <td>Clifford</td>\n",
       "      <td>2021-12-19</td>\n",
       "      <td>(Dublin, Ireland)</td>\n",
       "      <td>aiden_clifford608122767@mafthy.com</td>\n",
       "      <td>(+353) 87 8824 0104</td>\n",
       "    </tr>\n",
       "  </tbody>\n",
       "</table>\n",
       "<p>2849 rows × 9 columns</p>\n",
       "</div>"
      ],
      "text/plain": [
       "                        address firstname hs_object_id  \\\n",
       "0     Tilloch   Crossroad, 8332       Zoe       425352   \n",
       "1            Becklow  Way, 8143      Zara       432351   \n",
       "2        Fieldstone Grove, 9968      Zara       428601   \n",
       "3           Collins  Lane, 3994    Winnie       437452   \n",
       "4             Jackson Hill, 547      Zara       427351   \n",
       "...                         ...       ...          ...   \n",
       "2844     Fairfield  Drive, 7609     Aiden       454193   \n",
       "2845    Buttonwood Tunnel, 9765     Aiden       454630   \n",
       "2846        Belgrave  Rue, 6292     Aiden       458519   \n",
       "2847      Chantry   Alley, 6477     Aiden       460175   \n",
       "2848       Callcott   Way, 1611     Aiden       460472   \n",
       "\n",
       "                            industry  lastname technical_test___create_date  \\\n",
       "0             ;Meat;Poultry and fish      Owen                   2021-11-02   \n",
       "1               Fruit and vegetables   Rodwell                   2021-04-28   \n",
       "2                      ;Meat;Milling  Freeburn                   2021-10-11   \n",
       "3                     Dairy products    Walter                   2021-10-10   \n",
       "4                 ;Animal feeds;Meat  Oldfield                   2021-11-12   \n",
       "...                              ...       ...                          ...   \n",
       "2844    ;Animal feeds;Dairy products   Eddison                   2021-04-12   \n",
       "2845           ;Animal feeds;Milling    Cooper                   2021-11-24   \n",
       "2846        ;Bakery products;Milling      Hope                   2021-04-11   \n",
       "2847  ;Animal feeds;Poultry and fish     Eyres                   2021-09-25   \n",
       "2848              ;Meat;Animal feeds  Clifford                   2021-12-19   \n",
       "\n",
       "                    City/Country                               Email  \\\n",
       "0              (Dublin, Ireland)       zoe_owen1652446013@bungar.biz   \n",
       "1              (Dublin, Ireland)    zara_rodwell1270511699@zorer.org   \n",
       "2            (Limerick, Ireland)  zara_freeburn2028884073@gembat.biz   \n",
       "3                (None, Ireland)  winnie_walter1068546463@naiker.biz   \n",
       "4       (London, United Kingdom)  zara_oldfield587137840@ubusive.com   \n",
       "...                          ...                                 ...   \n",
       "2844             (None, Ireland)    aiden_eddison148873831@atink.com   \n",
       "2845         (Limerick, Ireland)    aiden_cooper489314766@ovock.tech   \n",
       "2846    (London, United Kingdom)    aiden_hope1577155349@dionrab.com   \n",
       "2847  (Plymouth, United Kingdom)      aiden_eyres868665927@sheye.org   \n",
       "2848           (Dublin, Ireland)  aiden_clifford608122767@mafthy.com   \n",
       "\n",
       "             Phone_Number  \n",
       "0     (+353) 56 4541 6200  \n",
       "1     (+353) 33 8625 2475  \n",
       "2     (+353) 62 2415 6216  \n",
       "3     (+353) 25 6760 4285  \n",
       "4      (+44) 76 1486 6578  \n",
       "...                   ...  \n",
       "2844  (+353) 20 0330 1221  \n",
       "2845  (+353) 33 7667 0122  \n",
       "2846   (+44) 63 1678 4584  \n",
       "2847   (+44) 14 0317 3282  \n",
       "2848  (+353) 87 8824 0104  \n",
       "\n",
       "[2849 rows x 9 columns]"
      ]
     },
     "execution_count": 9,
     "metadata": {},
     "output_type": "execute_result"
    }
   ],
   "source": [
    "DataFrame_Contacts = Duplicate_Management(DataFrame_Contacts)\n",
    "DataFrame_Contacts"
   ]
  },
  {
   "cell_type": "markdown",
   "metadata": {},
   "source": [
    "### **Assign values to the Multiple checkboxes property**"
   ]
  },
  {
   "cell_type": "code",
   "execution_count": 10,
   "metadata": {},
   "outputs": [
    {
     "name": "stdout",
     "output_type": "stream",
     "text": [
      "{'name': 'original_industry', 'label': 'Original Industry', 'description': '', 'groupName': 'contactinformation', 'type': 'enumeration', 'fieldType': 'checkbox', 'fieldLevelPermission': None, 'hidden': False, 'createdUserId': None, 'searchableInGlobalSearch': False, 'hasUniqueValue': False, 'externalOptionsReferenceType': None, 'sensitiveDataCategories': [], 'updatedUserId': None, 'createdAt': None, 'formField': True, 'displayOrder': -1, 'readOnlyValue': False, 'readOnlyDefinition': False, 'mutableDefinitionNotDeletable': False, 'favorited': False, 'favoritedOrder': -1, 'calculated': False, 'externalOptions': False, 'displayMode': 'current_value', 'showCurrencySymbol': None, 'hubspotDefined': None, 'dataSensitivity': 'none', 'referencedObjectType': None, 'isCustomizedDefault': False, 'optionsAreMutable': None, 'optionSortStrategy': None, 'numberDisplayHint': None, 'textDisplayHint': None, 'dateDisplayHint': None, 'searchTextAnalysisMode': None, 'currencyPropertyName': None, 'deleted': None, 'updatedAt': None, 'options': [{'value': 'Animal feeds', 'readOnly': None, 'hidden': False, 'label': 'Animal feeds', 'description': None, 'displayOrder': 0, 'doubleData': None}, {'value': 'Bakery products', 'readOnly': None, 'hidden': False, 'label': 'Bakery products', 'description': None, 'displayOrder': 1, 'doubleData': None}, {'value': 'Dairy products', 'readOnly': None, 'hidden': False, 'label': 'Dairy products', 'description': None, 'displayOrder': 2, 'doubleData': None}, {'value': 'Fruit and vegetables', 'readOnly': None, 'hidden': False, 'label': 'Fruit and vegetables', 'description': None, 'displayOrder': 3, 'doubleData': None}, {'value': 'Meat', 'readOnly': None, 'hidden': False, 'label': 'Meat', 'description': None, 'displayOrder': 4, 'doubleData': None}, {'value': 'Milling', 'readOnly': None, 'hidden': False, 'label': 'Milling', 'description': None, 'displayOrder': 5, 'doubleData': None}, {'value': 'Poultry and fish', 'readOnly': None, 'hidden': False, 'label': 'Poultry and fish', 'description': None, 'displayOrder': 6, 'doubleData': None}]}\n"
     ]
    }
   ],
   "source": [
    "apiK = \"pat-na1-43974e85-adef-4f1f-a168-b4f9ce22950d\"\n",
    "\n",
    "Properties_Multiple_CheckB(apiK,Values_Industry)"
   ]
  },
  {
   "cell_type": "markdown",
   "metadata": {},
   "source": [
    "## **Load Function**\n",
    "### function to store the collected contacts with their respective transformed data in HubSpot"
   ]
  },
  {
   "cell_type": "code",
   "execution_count": 11,
   "metadata": {},
   "outputs": [],
   "source": [
    "\n",
    "response = Load_Function(DataFrame_Contacts,apiK)\n",
    "#print(response)"
   ]
  }
 ],
 "metadata": {
  "kernelspec": {
   "display_name": "Python 3",
   "language": "python",
   "name": "python3"
  },
  "language_info": {
   "codemirror_mode": {
    "name": "ipython",
    "version": 3
   },
   "file_extension": ".py",
   "mimetype": "text/x-python",
   "name": "python",
   "nbconvert_exporter": "python",
   "pygments_lexer": "ipython3",
   "version": "3.11.9"
  }
 },
 "nbformat": 4,
 "nbformat_minor": 2
}
